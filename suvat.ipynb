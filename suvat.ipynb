{
 "cells": [
  {
   "cell_type": "markdown",
   "metadata": {
    "slideshow": {
     "slide_type": "slide"
    }
   },
   "source": [
    "## Constant acceleration\n",
    "\n",
    "For this section of the course we will assume a constant *vector* acceleration, $a$, in a straight line.\n",
    "\n",
    "Mostly we will be considering vector quantities, *velocity* and *displacement* as opposed to scalar *speed* and *distance*."
   ]
  },
  {
   "cell_type": "markdown",
   "metadata": {
    "slideshow": {
     "slide_type": "slide"
    }
   },
   "source": [
    "A rocket is travelling at $20ms^{-1}$. It accelerates at $2ms^{-2}$.\n",
    "\n",
    "What is the rocket's velocity after 5 seconds?\n",
    "\n",
    "How far has the rocket travelled in this time?"
   ]
  },
  {
   "cell_type": "markdown",
   "metadata": {
    "slideshow": {
     "slide_type": "slide"
    }
   },
   "source": [
    "Acceleration is the rate of change of velocity so $a=\\dfrac{\\text{Change in velocity}}{\\text{Time taken}}=\\dfrac{v-u}{t}$\n",
    "\n",
    "This rearranges to $$v-u=at$$\n",
    "\n",
    "That makes intuitive sense: the velocity starts at $u$ and increases (or decreases) by $a$ every second until it gets to $v$.\n",
    "\n",
    "So our rocket will accelerate from $20\\text{ms}^{-1}$ to $30\\text{ms}^{-1}$. But how far will it have travelled?"
   ]
  },
  {
   "cell_type": "code",
   "execution_count": 43,
   "metadata": {
    "hide_input": false,
    "scrolled": true,
    "slideshow": {
     "slide_type": "skip"
    }
   },
   "outputs": [],
   "source": [
    "import matplotlib.pyplot as plt\n",
    "import numpy as np"
   ]
  },
  {
   "cell_type": "code",
   "execution_count": 59,
   "metadata": {
    "hide_input": true,
    "slideshow": {
     "slide_type": "slide"
    }
   },
   "outputs": [],
   "source": [
    "# Initial velocity\n",
    "u = 20\n",
    "# Acceleration\n",
    "a = 2\n",
    "# One hundred times between 0 and 5s\n",
    "t = np.linspace(0,5,100)"
   ]
  },
  {
   "cell_type": "code",
   "execution_count": 60,
   "metadata": {
    "hide_input": false,
    "scrolled": false,
    "slideshow": {
     "slide_type": "subslide"
    }
   },
   "outputs": [
    {
     "data": {
      "image/png": "[encoded data removed]",
      "text/plain": [
       "<Figure size 432x288 with 1 Axes>"
      ]
     },
     "metadata": {
      "needs_background": "light"
     },
     "output_type": "display_data"
    }
   ],
   "source": [
    "fig, ax = plt.subplots()\n",
    "\n",
    "ax.set_ylabel(\"Velocity\")\n",
    "ax.set_xlabel(\"Time\")\n",
    "ax.set_ylim(0,30)\n",
    "\n",
    "ax.spines[\"left\"].set_position('zero')\n",
    "ax.spines[\"bottom\"].set_position('zero')\n",
    "ax.spines[\"top\"].set_visible(False)\n",
    "ax.spines[\"right\"].set_visible(False)\n",
    "ax.plot(t,u+a*t);"
   ]
  },
  {
   "cell_type": "markdown",
   "metadata": {
    "slideshow": {
     "slide_type": "-"
    }
   },
   "source": [
    "How do we work out the distance travelled?<br>\n",
    "Is this any easier if we think of a constant velocity?"
   ]
  },
  {
   "cell_type": "code",
   "execution_count": 46,
   "metadata": {
    "hide_input": true,
    "slideshow": {
     "slide_type": "subslide"
    }
   },
   "outputs": [
    {
     "data": {
      "image/png": "[encoded data removed]",
      "text/plain": [
       "<Figure size 432x288 with 1 Axes>"
      ]
     },
     "metadata": {
      "needs_background": "light"
     },
     "output_type": "display_data"
    }
   ],
   "source": [
    "fig, ax = plt.subplots()\n",
    "\n",
    "ax.set_ylabel(\"Velocity\")\n",
    "ax.set_xlabel(\"Time\")\n",
    "ax.set_ylim(0,30)\n",
    "\n",
    "ax.spines[\"left\"].set_position('zero')\n",
    "ax.spines[\"bottom\"].set_position('zero')\n",
    "ax.spines[\"top\"].set_visible(False)\n",
    "ax.spines[\"right\"].set_visible(False)\n",
    "ax.fill_between(t,0, u+a*t, facecolor = \"purple\");"
   ]
  },
  {
   "cell_type": "markdown",
   "metadata": {
    "slideshow": {
     "slide_type": "-"
    }
   },
   "source": [
    "How do we find the area (representing the distance travelled)?<br>Come up with as many different ways to do this as you can think of."
   ]
  },
  {
   "cell_type": "markdown",
   "metadata": {
    "slideshow": {
     "slide_type": "subslide"
    }
   },
   "source": [
    "In this diagram, $s=\\color{red}{Red}+\\color{blue}{Blue}=\\color{red}{ut}+\\color{blue}{\\frac{1}{2}(v-u)t}$\n",
    "\n",
    "But $v-u=at$ so this becomes $s=ut+\\frac{1}{2}at^2=100+\\frac{1}{2}2\\times5^2=125\\text{m}$\n",
    "\n",
    "What does the red area represent in this case?"
   ]
  },
  {
   "cell_type": "code",
   "execution_count": 47,
   "metadata": {
    "hide_input": true,
    "slideshow": {
     "slide_type": "-"
    }
   },
   "outputs": [
    {
     "data": {
      "image/png": "[encoded data removed]",
      "text/plain": [
       "<Figure size 432x288 with 1 Axes>"
      ]
     },
     "metadata": {
      "needs_background": "light"
     },
     "output_type": "display_data"
    }
   ],
   "source": [
    "fig, ax = plt.subplots()\n",
    "\n",
    "ax.set_ylabel(\"Velocity\")\n",
    "ax.set_xlabel(\"Time\")\n",
    "ax.set_ylim(0,30)\n",
    "\n",
    "ax.spines[\"left\"].set_position('zero')\n",
    "ax.spines[\"bottom\"].set_position('zero')\n",
    "ax.spines[\"top\"].set_visible(False)\n",
    "ax.spines[\"right\"].set_visible(False)\n",
    "\n",
    "ax.fill_between(t,0,u, facecolor=\"red\")\n",
    "ax.fill_between(t,u,u+a*t, facecolor=\"blue\");"
   ]
  },
  {
   "cell_type": "markdown",
   "metadata": {
    "slideshow": {
     "slide_type": "subslide"
    }
   },
   "source": [
    "Alternatively, $s=vt-\\color{green}{Green}=vt-\\color{green}{\\frac{1}{2}(v-u)t}$\n",
    "\n",
    "Hence $s=vt-\\frac{1}{2}at^2=150-\\frac{1}{2}2\\times5^2=125\\text{m}$\n",
    "\n",
    "What does the \"green plus black\" area represent in this case?"
   ]
  },
  {
   "cell_type": "code",
   "execution_count": 48,
   "metadata": {
    "hide_input": false,
    "slideshow": {
     "slide_type": "-"
    }
   },
   "outputs": [
    {
     "data": {
      "image/png": "[encoded data removed]",
      "text/plain": [
       "<Figure size 432x288 with 1 Axes>"
      ]
     },
     "metadata": {
      "needs_background": "light"
     },
     "output_type": "display_data"
    }
   ],
   "source": [
    "fig, ax = plt.subplots()\n",
    "ax.set_xlim(0,5)\n",
    "ax.set_ylim(0,30)\n",
    "ax.spines[\"left\"].set_position('zero')\n",
    "ax.spines[\"bottom\"].set_position('zero')\n",
    "ax.spines[\"top\"].set_visible(False)\n",
    "ax.spines[\"right\"].set_visible(False)\n",
    "\n",
    "\n",
    "ax.fill_between(t,0,u+a*t, facecolor=\"green\",alpha=0.8)\n",
    "ax.fill_between(t,u+a*t, 30, facecolor=\"black\");\n"
   ]
  },
  {
   "cell_type": "markdown",
   "metadata": {
    "slideshow": {
     "slide_type": "subslide"
    }
   },
   "source": [
    "A third possibility is $s=\\color{purple}{Purple\\,trapezium}=\\dfrac{u+v}{2}t=\\dfrac{20+30}{2}\\times5=125\\text{m}$"
   ]
  },
  {
   "cell_type": "code",
   "execution_count": 49,
   "metadata": {
    "hide_input": false,
    "slideshow": {
     "slide_type": "-"
    }
   },
   "outputs": [
    {
     "data": {
      "image/png": "[encoded data removed]",
      "text/plain": [
       "<Figure size 432x288 with 1 Axes>"
      ]
     },
     "metadata": {
      "needs_background": "light"
     },
     "output_type": "display_data"
    }
   ],
   "source": [
    "fig, ax = plt.subplots()\n",
    "ax.set_ylim(0,30)\n",
    "ax.spines[\"left\"].set_position('zero')\n",
    "ax.spines[\"bottom\"].set_position('zero')\n",
    "ax.spines[\"top\"].set_visible(False)\n",
    "ax.spines[\"right\"].set_visible(False)\n",
    "\n",
    "ax.plot(t,u+a*t,c=\"purple\")\n",
    "ax.fill_between(t,0,u+a*t,facecolor=\"purple\");"
   ]
  },
  {
   "cell_type": "markdown",
   "metadata": {
    "slideshow": {
     "slide_type": "slide"
    }
   },
   "source": [
    "So far we have\n",
    "\n",
    "$\\begin{aligned}\n",
    "v&=u+at\\\\\n",
    "s&=\\dfrac{u+v}{2}t\\\\\n",
    "s&=ut+\\frac{1}{2}at^2\\\\\n",
    "s&=vt-\\frac{1}{2}at^2\n",
    "\\end{aligned}$"
   ]
  },
  {
   "cell_type": "markdown",
   "metadata": {
    "slideshow": {
     "slide_type": "fragment"
    }
   },
   "source": [
    "Each of these has four of the five unknowns. There should be a fifth equation, one that doesn't involve $t$."
   ]
  },
  {
   "cell_type": "markdown",
   "metadata": {
    "slideshow": {
     "slide_type": "subslide"
    }
   },
   "source": [
    "The easiest pair to eliminate $t$ from are $\\begin{cases}v=u+at\\\\s=\\dfrac{u+v}{2}t\\end{cases}$"
   ]
  },
  {
   "cell_type": "markdown",
   "metadata": {
    "slideshow": {
     "slide_type": "fragment"
    }
   },
   "source": [
    "$\\begin{cases}t=\\dfrac{v-u}{a}\\\\\\\\t=\\dfrac{2s}{u+v}\\end{cases} \\dfrac{v-u}{a}=\\dfrac{2s}{u+v}\\implies v^2-u^2=2as$\n",
    "\n",
    "This is usually written $v^2=u^2+2as$"
   ]
  },
  {
   "cell_type": "markdown",
   "metadata": {
    "slideshow": {
     "slide_type": "subslide"
    }
   },
   "source": [
    "Finally then, we have five equations, each involving four of the variables\n",
    "\n",
    "$\\begin{aligned}\n",
    "v&=u+at\\\\\n",
    "s&=\\dfrac{u+v}{2}t\\\\\n",
    "s&=ut+\\frac{1}{2}at^2\\\\\n",
    "s&=vt-\\frac{1}{2}at^2\\\\\n",
    "v^2&=u^2+2as\n",
    "\\end{aligned}$"
   ]
  },
  {
   "cell_type": "code",
   "execution_count": 50,
   "metadata": {
    "hide_input": false,
    "slideshow": {
     "slide_type": "skip"
    }
   },
   "outputs": [],
   "source": [
    "from sympy import *\n",
    "import numpy as np\n",
    "s,u,v,a,t,x,y = symbols('s u v a t x y')\n",
    "init_printing()"
   ]
  },
  {
   "cell_type": "markdown",
   "metadata": {
    "slideshow": {
     "slide_type": "slide"
    }
   },
   "source": [
    "## Random `suvat` question generator"
   ]
  },
  {
   "cell_type": "code",
   "execution_count": 53,
   "metadata": {
    "hide_input": false,
    "slideshow": {
     "slide_type": "skip"
    }
   },
   "outputs": [],
   "source": [
    "# some handy functions\n",
    "from IPython.display import display, Markdown, clear_output\n",
    "# widget packages\n",
    "import ipywidgets as widgets"
   ]
  },
  {
   "cell_type": "code",
   "execution_count": 56,
   "metadata": {
    "hide_input": false,
    "slideshow": {
     "slide_type": "skip"
    }
   },
   "outputs": [],
   "source": [
    "def generate_question():\n",
    "\n",
    "    u = np.random.choice([-3,-2,-1,1,2,3,4,5])\n",
    "    t = np.random.choice([1,2,2,3,4,5,8,12,15,20,30,45])\n",
    "    a = np.random.choice([-3,-2,-1,1,2,3,5,-9.8,10])\n",
    "    s = round(u*t+0.5*a*t**2,2)\n",
    "    v = round(u+a*t,2)\n",
    "    variables = {\n",
    "        \"u\": u,\n",
    "        \"v\": v,\n",
    "        \"a\": a,\n",
    "        \"s\": s,\n",
    "        \"t\": t}\n",
    "    involved = np.random.choice(list(variables.keys()),size=4,replace=False)\n",
    "    given = involved[:-1]\n",
    "    find = involved[-1]\n",
    "    \n",
    "    return variables, given, find"
   ]
  },
  {
   "cell_type": "code",
   "execution_count": 72,
   "metadata": {
    "hide_input": false,
    "scrolled": true,
    "slideshow": {
     "slide_type": "-"
    }
   },
   "outputs": [
    {
     "data": {
      "application/vnd.jupyter.widget-view+json": {
       "model_id": "ea03914a3d8c4e47a8d4a59fbac0d82e",
       "version_major": 2,
       "version_minor": 0
      },
      "text/plain": [
       "VBox(children=(Button(description='New question', style=ButtonStyle()), Button(description='Show answer', styl…"
      ]
     },
     "metadata": {},
     "output_type": "display_data"
    }
   ],
   "source": [
    "answer = widgets.Button(description=\"Show answer\")\n",
    "question = widgets.Button(description=\"New question\")\n",
    "out = widgets.Output()\n",
    "answerShown = False\n",
    "\n",
    "variables, given, find = generate_question()\n",
    "\n",
    "def display_question():\n",
    "    global variables, given, find\n",
    "    with out:\n",
    "        clear_output()\n",
    "        for variable in given:\n",
    "            print(\"{}={}\".format(variable,variables[variable]))\n",
    "        print(\"Find {}\".format(find))\n",
    "        \n",
    "def display_answer():\n",
    "    with out:\n",
    "        #clear_output()\n",
    "        print(\"\\n{} = {}\".format(find, variables[find])) \n",
    "        \n",
    "def on_question_click(_):\n",
    "    global variables, given, find\n",
    "    variables, given, find = generate_question()\n",
    "    display_question()   \n",
    "        \n",
    "def on_answer_click(_):\n",
    "    global answerShown\n",
    "    if(answerShown):\n",
    "        display_question()\n",
    "    else:\n",
    "        display_answer()\n",
    "    answerShown = not answerShown\n",
    "              \n",
    "question.on_click(on_question_click)\n",
    "answer.on_click(on_answer_click)\n",
    "\n",
    "display_question()\n",
    "\n",
    "widgets.VBox([question, answer, out])"
   ]
  },
  {
   "cell_type": "markdown",
   "metadata": {
    "slideshow": {
     "slide_type": "slide"
    }
   },
   "source": [
    "## Constant acceleration\n",
    "\n",
    ">Prosecutor: \"Although I accept that you left the traffic lights at rest, you were snapped by the camera doing $133kmh^{−1}$, which is found at a distance of $338$ metres from the traffic lights. I claim that this is ample distance to reach the speed shown on the ticket.\"\n",
    ">\n",
    ">Defendant: \"But the specifications in the manual of my cheap car show that the maximum acceleration is $0$ to $96kmh^{−1}$ in $10.5s$. I could never have accelerated to such a high speed in such a short distance!\"\n",
    ">\n",
    ">Analyse this case carefully. Could the penalty reasonably be rejected on mathematical grounds?"
   ]
  }
 ],
 "metadata": {
  "celltoolbar": "Slideshow",
  "hide_input": false,
  "kernelspec": {
   "display_name": "Python 3",
   "language": "python",
   "name": "python3"
  },
  "language_info": {
   "codemirror_mode": {
    "name": "ipython",
    "version": 3
   },
   "file_extension": ".py",
   "mimetype": "text/x-python",
   "name": "python",
   "nbconvert_exporter": "python",
   "pygments_lexer": "ipython3",
   "version": "3.6.8"
  },
  "livereveal": {
   "theme": "ada"
  }
 },
 "nbformat": 4,
 "nbformat_minor": 1
}
