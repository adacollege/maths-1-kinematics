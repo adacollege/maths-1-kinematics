{
 "cells": [
  {
   "cell_type": "markdown",
   "metadata": {
    "slideshow": {
     "slide_type": "slide"
    }
   },
   "source": [
    "## Constant acceleration\n",
    "\n",
    "For this section of the course we will assume a constant *vector* acceleration, $a$, in a straight line.\n",
    "\n",
    "Mostly we will be considering vector quantities, *velocity* and *displacement* as opposed to scalar *speed* and *distance*."
   ]
  },
  {
   "cell_type": "markdown",
   "metadata": {
    "slideshow": {
     "slide_type": "slide"
    }
   },
   "source": [
    "A rocket is travelling at $20ms^{-1}$. It accelerates at $2ms^{-2}$.\n",
    "\n",
    "What is the rocket's velocity after 5 seconds?\n",
    "\n",
    "How far has the rocket gone in this time?"
   ]
  },
  {
   "cell_type": "markdown",
   "metadata": {
    "slideshow": {
     "slide_type": "slide"
    }
   },
   "source": [
    "Using $u$ to mean \"initial velocity\" and $v$ to mean \"final velocity\", we have $v=u+at$\n",
    "\n",
    "The velocity starts at $u$, increases by $a$ every second for $t$ seconds, to reach $v$.\n",
    "\n",
    "So $v=20+2\\times 5=30$"
   ]
  },
  {
   "cell_type": "code",
   "execution_count": 4,
   "metadata": {
    "hide_input": true,
    "scrolled": true,
    "slideshow": {
     "slide_type": "skip"
    }
   },
   "outputs": [],
   "source": [
    "import matplotlib.pyplot as plt\n",
    "import numpy as np"
   ]
  },
  {
   "cell_type": "code",
   "execution_count": 9,
   "metadata": {
    "hide_input": true,
    "scrolled": true,
    "slideshow": {
     "slide_type": "slide"
    }
   },
   "outputs": [
    {
     "data": {
      "image/png": "[encoded data removed]",
      "text/plain": [
       "<Figure size 432x288 with 1 Axes>"
      ]
     },
     "metadata": {
      "needs_background": "light"
     },
     "output_type": "display_data"
    }
   ],
   "source": [
    "t = np.linspace(0,5,20)\n",
    "u = 20\n",
    "a = 2\n",
    "v = u + a*t\n",
    "\n",
    "fig, ax = plt.subplots()\n",
    "\n",
    "ax.set_ylabel(\"Velocity\")\n",
    "ax.set_xlabel(\"Time\")\n",
    "ax.set_ylim(0,30)\n",
    "ax.set_xlim(0,5)\n",
    "ax.spines[\"left\"].set_position('zero')\n",
    "ax.spines[\"bottom\"].set_position('zero')\n",
    "ax.spines[\"top\"].set_visible(False)\n",
    "ax.spines[\"right\"].set_visible(False)\n",
    "\n",
    "ax.plot(t,v);\n",
    "\n",
    "ax.axhline(20, c=\"lightgrey\")\n",
    "ax.annotate(r\"$u=20$\", (5,20), (5.1, 20))\n",
    "ax.axhline(30, c=\"lightgrey\")\n",
    "ax.annotate(r\"$v=30$\", (5,30), (5.1, 30));\n",
    "\n",
    "ax.annotate(r\"$at=2\\times5$\", (5,25),(5.1,25), va=\"center\", arrowprops=dict(arrowstyle='-[, widthB=3.3'));"
   ]
  },
  {
   "cell_type": "markdown",
   "metadata": {
    "slideshow": {
     "slide_type": "slide"
    }
   },
   "source": [
    "But how far has the rocket gone?"
   ]
  },
  {
   "cell_type": "code",
   "execution_count": 10,
   "metadata": {
    "hide_input": true,
    "scrolled": true,
    "slideshow": {
     "slide_type": "slide"
    }
   },
   "outputs": [
    {
     "data": {
      "image/png": "[encoded data removed]",
      "text/plain": [
       "<Figure size 432x288 with 1 Axes>"
      ]
     },
     "metadata": {
      "needs_background": "light"
     },
     "output_type": "display_data"
    }
   ],
   "source": [
    "fig, ax = plt.subplots()\n",
    "\n",
    "ax.set_ylabel(\"Velocity\")\n",
    "ax.set_xlabel(\"Time\")\n",
    "ax.set_ylim(0,30)\n",
    "\n",
    "ax.spines[\"left\"].set_position('zero')\n",
    "ax.spines[\"bottom\"].set_position('zero')\n",
    "ax.spines[\"top\"].set_visible(False)\n",
    "ax.spines[\"right\"].set_visible(False)\n",
    "ax.fill_between(t,0, u+a*t, facecolor = \"purple\");"
   ]
  },
  {
   "cell_type": "markdown",
   "metadata": {
    "slideshow": {
     "slide_type": "-"
    }
   },
   "source": [
    "The displacement is the area under the velocity graph.\n",
    "\n",
    "Come up with as many different ways to find this area as you can think of."
   ]
  },
  {
   "cell_type": "markdown",
   "metadata": {
    "slideshow": {
     "slide_type": "slide"
    }
   },
   "source": [
    "In this diagram, $s=\\color{red}{Red}+\\color{blue}{Blue}=\\color{red}{ut}+\\color{blue}{\\frac{1}{2}(v-u)t}$\n",
    "\n",
    "But $v-u=at$ so this becomes $s=ut+\\frac{1}{2}at^2=100+\\frac{1}{2}2\\times5^2=125\\text{m}$\n",
    "\n",
    "What does the red area represent in this case?"
   ]
  },
  {
   "cell_type": "code",
   "execution_count": 11,
   "metadata": {
    "hide_input": true,
    "slideshow": {
     "slide_type": "-"
    }
   },
   "outputs": [
    {
     "data": {
      "image/png": "[encoded data removed]",
      "text/plain": [
       "<Figure size 432x288 with 1 Axes>"
      ]
     },
     "metadata": {
      "needs_background": "light"
     },
     "output_type": "display_data"
    }
   ],
   "source": [
    "fig, ax = plt.subplots()\n",
    "\n",
    "ax.set_ylabel(\"Velocity\")\n",
    "ax.set_xlabel(\"Time\")\n",
    "ax.set_ylim(0,30)\n",
    "\n",
    "ax.spines[\"left\"].set_position('zero')\n",
    "ax.spines[\"bottom\"].set_position('zero')\n",
    "ax.spines[\"top\"].set_visible(False)\n",
    "ax.spines[\"right\"].set_visible(False)\n",
    "\n",
    "ax.fill_between(t,0,u, facecolor=\"red\")\n",
    "ax.fill_between(t,u,u+a*t, facecolor=\"blue\");"
   ]
  },
  {
   "cell_type": "markdown",
   "metadata": {
    "slideshow": {
     "slide_type": "slide"
    }
   },
   "source": [
    "Alternatively, $s=vt-\\color{green}{Green}=vt-\\color{green}{\\frac{1}{2}(v-u)t}$\n",
    "\n",
    "Hence $s=vt-\\frac{1}{2}at^2=150-\\frac{1}{2}2\\times5^2=125\\text{m}$\n",
    "\n",
    "What does the \"green plus black\" area represent in this case?"
   ]
  },
  {
   "cell_type": "code",
   "execution_count": 12,
   "metadata": {
    "hide_input": true,
    "slideshow": {
     "slide_type": "-"
    }
   },
   "outputs": [
    {
     "data": {
      "image/png": "[encoded data removed]",
      "text/plain": [
       "<Figure size 432x288 with 1 Axes>"
      ]
     },
     "metadata": {
      "needs_background": "light"
     },
     "output_type": "display_data"
    }
   ],
   "source": [
    "fig, ax = plt.subplots()\n",
    "ax.set_xlim(0,5)\n",
    "ax.set_ylim(0,30)\n",
    "ax.spines[\"left\"].set_position('zero')\n",
    "ax.spines[\"bottom\"].set_position('zero')\n",
    "ax.spines[\"top\"].set_visible(False)\n",
    "ax.spines[\"right\"].set_visible(False)\n",
    "\n",
    "\n",
    "ax.fill_between(t,0,u+a*t, facecolor=\"green\",alpha=0.8)\n",
    "ax.fill_between(t,u+a*t, 30, facecolor=\"black\");\n"
   ]
  },
  {
   "cell_type": "markdown",
   "metadata": {
    "slideshow": {
     "slide_type": "slide"
    }
   },
   "source": [
    "A third possibility is $s=\\color{purple}{Purple\\,trapezium}=\\dfrac{u+v}{2}t=\\dfrac{20+30}{2}\\times5=125\\text{m}$"
   ]
  },
  {
   "cell_type": "code",
   "execution_count": 13,
   "metadata": {
    "hide_input": true,
    "slideshow": {
     "slide_type": "-"
    }
   },
   "outputs": [
    {
     "data": {
      "image/png": "[encoded data removed]",
      "text/plain": [
       "<Figure size 432x288 with 1 Axes>"
      ]
     },
     "metadata": {
      "needs_background": "light"
     },
     "output_type": "display_data"
    }
   ],
   "source": [
    "fig, ax = plt.subplots()\n",
    "ax.set_ylim(0,30)\n",
    "ax.spines[\"left\"].set_position('zero')\n",
    "ax.spines[\"bottom\"].set_position('zero')\n",
    "ax.spines[\"top\"].set_visible(False)\n",
    "ax.spines[\"right\"].set_visible(False)\n",
    "\n",
    "ax.plot(t,u+a*t,c=\"purple\")\n",
    "ax.fill_between(t,0,u+a*t,facecolor=\"purple\");"
   ]
  },
  {
   "cell_type": "markdown",
   "metadata": {
    "slideshow": {
     "slide_type": "slide"
    }
   },
   "source": [
    "So far we have\n",
    "\n",
    "$\\begin{aligned}\n",
    "v&=u+at\\\\\n",
    "s&=\\dfrac{u+v}{2}t\\\\\n",
    "s&=ut+\\frac{1}{2}at^2\\\\\n",
    "s&=vt-\\frac{1}{2}at^2\n",
    "\\end{aligned}$"
   ]
  },
  {
   "cell_type": "markdown",
   "metadata": {
    "slideshow": {
     "slide_type": "fragment"
    }
   },
   "source": [
    "Each of these has four of the five unknowns. There should be a fifth equation, one that doesn't involve $t$.\n",
    "\n",
    "Find it."
   ]
  },
  {
   "cell_type": "markdown",
   "metadata": {
    "slideshow": {
     "slide_type": "slide"
    }
   },
   "source": [
    "The easiest pair to eliminate $t$ from are $\\begin{cases}v=u+at\\\\s=\\dfrac{u+v}{2}t\\end{cases}$"
   ]
  },
  {
   "cell_type": "markdown",
   "metadata": {
    "slideshow": {
     "slide_type": "fragment"
    }
   },
   "source": [
    "$\\begin{cases}t=\\dfrac{v-u}{a}\\\\\\\\t=\\dfrac{2s}{u+v}\\end{cases} \\dfrac{v-u}{a}=\\dfrac{2s}{u+v}\\implies v^2-u^2=2as$\n",
    "\n",
    "This is usually written $v^2=u^2+2as$"
   ]
  },
  {
   "cell_type": "markdown",
   "metadata": {
    "slideshow": {
     "slide_type": "slide"
    }
   },
   "source": [
    "Finally then, we have five equations, each involving four of the variables\n",
    "\n",
    "$\\begin{aligned}\n",
    "v&=u+at\\\\\n",
    "s&=\\dfrac{u+v}{2}t\\\\\n",
    "s&=ut+\\frac{1}{2}at^2\\\\\n",
    "s&=vt-\\frac{1}{2}at^2\\\\\n",
    "v^2&=u^2+2as\n",
    "\\end{aligned}$"
   ]
  },
  {
   "cell_type": "code",
   "execution_count": 14,
   "metadata": {
    "hide_input": true,
    "slideshow": {
     "slide_type": "skip"
    }
   },
   "outputs": [],
   "source": [
    "from sympy import *\n",
    "import numpy as np\n",
    "s,u,v,a,t,x,y = symbols('s u v a t x y')\n",
    "init_printing()"
   ]
  },
  {
   "cell_type": "markdown",
   "metadata": {
    "slideshow": {
     "slide_type": "slide"
    }
   },
   "source": [
    "## Random `suvat` question generator"
   ]
  },
  {
   "cell_type": "code",
   "execution_count": 15,
   "metadata": {
    "hide_input": true,
    "slideshow": {
     "slide_type": "skip"
    }
   },
   "outputs": [],
   "source": [
    "# some handy functions\n",
    "from IPython.display import display, Markdown, clear_output\n",
    "# widget packages\n",
    "import ipywidgets as widgets"
   ]
  },
  {
   "cell_type": "code",
   "execution_count": 17,
   "metadata": {
    "hide_input": true,
    "slideshow": {
     "slide_type": "skip"
    }
   },
   "outputs": [],
   "source": [
    "def generate_question():\n",
    "\n",
    "    u = np.random.choice([-3,-2,-1,1,2,3,4,5])\n",
    "    t = np.random.choice([1,2,2,3,4,5,8,12,15,20,30,45])\n",
    "    a = np.random.choice([-3,-2,-1,1,2,3,5,-9.8,10])\n",
    "    s = round(u*t+0.5*a*t**2,2)\n",
    "    v = round(u+a*t,2)\n",
    "    variables = {\n",
    "        \"u\": u,\n",
    "        \"v\": v,\n",
    "        \"a\": a,\n",
    "        \"s\": s,\n",
    "        \"t\": t}\n",
    "    involved = np.random.choice(list(variables.keys()),size=4,replace=False)\n",
    "    given = involved[:-1]\n",
    "    find = involved[-1]\n",
    "    \n",
    "    return variables, given, find"
   ]
  },
  {
   "cell_type": "code",
   "execution_count": 18,
   "metadata": {
    "hide_input": true,
    "scrolled": false,
    "slideshow": {
     "slide_type": "-"
    }
   },
   "outputs": [
    {
     "data": {
      "application/vnd.jupyter.widget-view+json": {
       "model_id": "1a46afad6f914567b61631ee8d3f898c",
       "version_major": 2,
       "version_minor": 0
      },
      "text/plain": [
       "VBox(children=(Button(description='New question', style=ButtonStyle()), Button(description='Show answer', styl…"
      ]
     },
     "metadata": {},
     "output_type": "display_data"
    }
   ],
   "source": [
    "answer = widgets.Button(description=\"Show answer\")\n",
    "question = widgets.Button(description=\"New question\")\n",
    "out = widgets.Output()\n",
    "answerShown = False\n",
    "\n",
    "variables, given, find = generate_question()\n",
    "\n",
    "def display_question():\n",
    "    global variables, given, find\n",
    "    with out:\n",
    "        clear_output()\n",
    "        for variable in given:\n",
    "            print(\"{}={}\".format(variable,variables[variable]))\n",
    "        print(\"Find {}\".format(find))\n",
    "        \n",
    "def display_answer():\n",
    "    with out:\n",
    "        #clear_output()\n",
    "        print(\"\\n{} = {}\".format(find, variables[find])) \n",
    "        \n",
    "def on_question_click(_):\n",
    "    global variables, given, find\n",
    "    variables, given, find = generate_question()\n",
    "    display_question()   \n",
    "        \n",
    "def on_answer_click(_):\n",
    "    global answerShown\n",
    "    if(answerShown):\n",
    "        display_question()\n",
    "    else:\n",
    "        display_answer()\n",
    "    answerShown = not answerShown\n",
    "              \n",
    "question.on_click(on_question_click)\n",
    "answer.on_click(on_answer_click)\n",
    "\n",
    "display_question()\n",
    "\n",
    "widgets.VBox([question, answer, out])"
   ]
  },
  {
   "cell_type": "markdown",
   "metadata": {
    "slideshow": {
     "slide_type": "slide"
    }
   },
   "source": [
    "## Constant acceleration\n",
    "\n",
    ">Prosecutor: \"Although I accept that you left the traffic lights at rest, you were snapped by the camera doing $133kmh^{−1}$, which is found at a distance of $338$ metres from the traffic lights. I claim that this is ample distance to reach the speed shown on the ticket.\"\n",
    ">\n",
    ">Defendant: \"But the specifications in the manual of my cheap car show that the maximum acceleration is $0$ to $96kmh^{−1}$ in $10.5s$. I could never have accelerated to such a high speed in such a short distance!\"\n",
    ">\n",
    ">Analyse this case carefully. Could the penalty reasonably be rejected on mathematical grounds?"
   ]
  }
 ],
 "metadata": {
  "celltoolbar": "Slideshow",
  "hide_input": false,
  "kernelspec": {
   "display_name": "Python 3",
   "language": "python",
   "name": "python3"
  },
  "language_info": {
   "codemirror_mode": {
    "name": "ipython",
    "version": 3
   },
   "file_extension": ".py",
   "mimetype": "text/x-python",
   "name": "python",
   "nbconvert_exporter": "python",
   "pygments_lexer": "ipython3",
   "version": "3.8.5"
  },
  "livereveal": {
   "theme": "ada"
  }
 },
 "nbformat": 4,
 "nbformat_minor": 1
}
