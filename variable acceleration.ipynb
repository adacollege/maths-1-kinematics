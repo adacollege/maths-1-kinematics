{
 "cells": [
  {
   "cell_type": "markdown",
   "metadata": {
    "slideshow": {
     "slide_type": "slide"
    }
   },
   "source": [
    "# Calculus plus dynamics plus vectors"
   ]
  },
  {
   "cell_type": "markdown",
   "metadata": {
    "slideshow": {
     "slide_type": "subslide"
    }
   },
   "source": [
    "A curve has\n",
    "\n",
    "* $\\dfrac{\\text{d}^2y}{\\text{d}x^2}=6$\n",
    "* Gradient $4$ when $x=0$\n",
    "* Passes through the point $(1,12)$\n",
    "\n",
    "Find the equation of the curve."
   ]
  },
  {
   "cell_type": "markdown",
   "metadata": {
    "cell_style": "center",
    "slideshow": {
     "slide_type": "subslide"
    }
   },
   "source": [
    "If $\\dfrac{\\text{d}^2y}{\\text{d}x^2}=6$ then $\\dfrac{\\text{d}y}{\\text{d}x}=\\int 6\\,\\text{d}x=6x+c$"
   ]
  },
  {
   "cell_type": "markdown",
   "metadata": {
    "cell_style": "center",
    "slideshow": {
     "slide_type": "fragment"
    }
   },
   "source": [
    "But $\\dfrac{\\text{d}y}{\\text{d}x}=4$ when $x=0$, so $c=4$"
   ]
  },
  {
   "cell_type": "markdown",
   "metadata": {
    "cell_style": "center",
    "slideshow": {
     "slide_type": "fragment"
    }
   },
   "source": [
    "If $\\dfrac{\\text{d}y}{\\text{d}x}=6x+4$ then $y=\\int 6x+4\\,\\text{d}x=3x^2+4x+d$"
   ]
  },
  {
   "cell_type": "markdown",
   "metadata": {
    "cell_style": "center",
    "slideshow": {
     "slide_type": "fragment"
    }
   },
   "source": [
    "But $y=12$ when $x=1$, so $12=3\\cdot1^2+4\\cdot1+d\\implies d=5$\n",
    "\n",
    "So $y=3x^2+4x+5$"
   ]
  },
  {
   "cell_type": "markdown",
   "metadata": {
    "slideshow": {
     "slide_type": "subslide"
    }
   },
   "source": [
    "A particle moves in a straight line such that\n",
    "\n",
    "* Its acceleration is $10\\text{ms}^{-2}$\n",
    "* Its initial velocity is $5\\text{ms}^{-1}$\n",
    "* After $2$ seconds it is at $32\\text{m}$\n",
    "\n",
    "Find an equation for the position, $x$, of the particle at time $t$."
   ]
  },
  {
   "cell_type": "markdown",
   "metadata": {
    "cell_style": "center",
    "slideshow": {
     "slide_type": "subslide"
    }
   },
   "source": [
    "If $a=\\dfrac{\\text{d}^2x}{\\text{d}t^2}=10$ then $v=\\dfrac{\\text{d}x}{\\text{d}t}=\\int 10\\,\\text{d}t=10t+c$"
   ]
  },
  {
   "cell_type": "markdown",
   "metadata": {
    "cell_style": "center",
    "slideshow": {
     "slide_type": "fragment"
    }
   },
   "source": [
    "But $v=5$ when $t=0$, so $c=5$"
   ]
  },
  {
   "cell_type": "markdown",
   "metadata": {
    "cell_style": "center",
    "slideshow": {
     "slide_type": "fragment"
    }
   },
   "source": [
    "If $v=\\dfrac{\\text{d}x}{\\text{d}t}=10t+5$ then $x=\\int 10t+5\\,\\text{d}t=5t^2+5t+d$"
   ]
  },
  {
   "cell_type": "markdown",
   "metadata": {
    "slideshow": {
     "slide_type": "fragment"
    }
   },
   "source": [
    "But $x=32$ when $t=2\\,$ so $\\,5\\cdot2^2+5\\cdot 2 + d = 32\\implies d = 2$\n",
    "\n",
    "Hence $x=5t^2+5t+2$"
   ]
  },
  {
   "cell_type": "markdown",
   "metadata": {
    "slideshow": {
     "slide_type": "subslide"
    }
   },
   "source": [
    "A particle moves with velocity $v=8t^3+4\\sqrt{t}$\n",
    "\n",
    "Find the acceleration of the particle at time $t=2$\n",
    "\n",
    "Given that it has position $x=3$ at time $t=0$, find the position of the particle at time $t=4$ "
   ]
  },
  {
   "cell_type": "markdown",
   "metadata": {
    "slideshow": {
     "slide_type": "subslide"
    }
   },
   "source": [
    "A particle $P$ of mass $2\\text{kg}$ is acted on by a single force of $12t\\,\\textbf{i}+16\\,\\textbf{j}\\,\\text{N}$\n",
    "\n",
    "$P$ is released from rest from the point $(1,4)$\n",
    "\n",
    "Find the position of $P$ after $3$ seconds."
   ]
  }
 ],
 "metadata": {
  "celltoolbar": "Slideshow",
  "kernelspec": {
   "display_name": "Python 3",
   "language": "python",
   "name": "python3"
  },
  "language_info": {
   "codemirror_mode": {
    "name": "ipython",
    "version": 3
   },
   "file_extension": ".py",
   "mimetype": "text/x-python",
   "name": "python",
   "nbconvert_exporter": "python",
   "pygments_lexer": "ipython3",
   "version": "3.6.8"
  }
 },
 "nbformat": 4,
 "nbformat_minor": 2
}
