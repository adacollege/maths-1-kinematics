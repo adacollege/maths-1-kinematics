{
 "cells": [
  {
   "cell_type": "markdown",
   "metadata": {
    "slideshow": {
     "slide_type": "subslide"
    }
   },
   "source": [
    "Suppose we have a particle moving with constant acceleration $6ms^{-2}$ and initial velocity $5ms^{-1}$.\n",
    "\n",
    "Write an equation for the displacement $s$, after time $t$."
   ]
  },
  {
   "cell_type": "markdown",
   "metadata": {
    "slideshow": {
     "slide_type": "subslide"
    }
   },
   "source": [
    "For our particle, $$s=5t+3t^2$$\n",
    "\n",
    "Write this as a python function `s(t)`"
   ]
  },
  {
   "cell_type": "code",
   "execution_count": null,
   "metadata": {
    "slideshow": {
     "slide_type": "subslide"
    }
   },
   "outputs": [],
   "source": [
    "def s(t):\n",
    "    pass"
   ]
  },
  {
   "cell_type": "code",
   "execution_count": null,
   "metadata": {},
   "outputs": [],
   "source": [
    "assert(s(100)==30500)"
   ]
  },
  {
   "cell_type": "markdown",
   "metadata": {
    "slideshow": {
     "slide_type": "subslide"
    }
   },
   "source": [
    "Use your function to find the displacement at time $t=1$ and at $t=3$\n",
    "\n",
    "Use these answers to find the average velocity over those two seconds."
   ]
  },
  {
   "cell_type": "markdown",
   "metadata": {
    "slideshow": {
     "slide_type": "subslide"
    }
   },
   "source": [
    "Write a python function `avg_velocity(t1,t2)`, that finds the average velocity of our particle between any two times `t1` and `t1`"
   ]
  },
  {
   "cell_type": "code",
   "execution_count": null,
   "metadata": {
    "slideshow": {
     "slide_type": "subslide"
    }
   },
   "outputs": [],
   "source": [
    "def avg_velocity(t1,t2):\n",
    "    pass"
   ]
  },
  {
   "cell_type": "code",
   "execution_count": null,
   "metadata": {
    "slideshow": {
     "slide_type": "subslide"
    }
   },
   "outputs": [],
   "source": [
    "assert(round(avg_velocity(1,3))==17)"
   ]
  },
  {
   "cell_type": "markdown",
   "metadata": {
    "slideshow": {
     "slide_type": "subslide"
    }
   },
   "source": [
    "Use your function to find the average velocity of the particle between\n",
    "\n",
    "* $t=1$ and $t=3$\n",
    "* $t=1$ and $t=2$\n",
    "* $t=1$ and $t=1.5$\n",
    "* $t=1$ and $t=1.1$\n",
    "\n",
    "Keep going. What happens?"
   ]
  },
  {
   "cell_type": "code",
   "execution_count": null,
   "metadata": {
    "scrolled": true,
    "slideshow": {
     "slide_type": "skip"
    }
   },
   "outputs": [],
   "source": [
    "import matplotlib.pyplot as plt\n",
    "import numpy as np"
   ]
  },
  {
   "cell_type": "markdown",
   "metadata": {
    "slideshow": {
     "slide_type": "subslide"
    }
   },
   "source": [
    "Write an equation, and a python function, for the velocity of our particle $v$ at time $t$."
   ]
  },
  {
   "cell_type": "code",
   "execution_count": null,
   "metadata": {
    "slideshow": {
     "slide_type": "subslide"
    }
   },
   "outputs": [],
   "source": [
    "def v(t):\n",
    "    return None\n",
    "\n",
    "assert v(10)==65"
   ]
  },
  {
   "cell_type": "markdown",
   "metadata": {
    "slideshow": {
     "slide_type": "fragment"
    }
   },
   "source": [
    "$$v=5+6t$$\n",
    "\n",
    "So what is the velocity at time $t=1$?"
   ]
  },
  {
   "cell_type": "markdown",
   "metadata": {
    "slideshow": {
     "slide_type": "fragment"
    }
   },
   "source": [
    "What's going on?"
   ]
  },
  {
   "cell_type": "code",
   "execution_count": null,
   "metadata": {
    "hide_input": true,
    "slideshow": {
     "slide_type": "subslide"
    }
   },
   "outputs": [],
   "source": [
    "ts = np.linspace(0,3,50)\n",
    "ss = s(ts)\n",
    "\n",
    "fig, ax = plt.subplots(figsize=(14,6))\n",
    "ax.set_ylabel(\"Displacement, s\")\n",
    "ax.set_xlabel(\"Time, t\")\n",
    "ax.plot(ts,ss,c='navy')\n",
    "ax.set_frame_on(False)\n",
    "ax.plot([1,3],[s(1),s(3)],c='maroon',alpha=0.6)\n",
    "ax.plot([1,2],[s(1),s(2)],c='maroon',alpha=0.6)\n",
    "ax.plot([1,1.5],[s(1),s(1.5)],c='maroon',alpha=0.6)\n",
    "ax.plot([1,1.2],[s(1),s(1.2)],c='maroon',alpha=0.6);"
   ]
  },
  {
   "cell_type": "markdown",
   "metadata": {
    "slideshow": {
     "slide_type": "-"
    }
   },
   "source": [
    "The gradient of the red chords is approaching the gradient of the curve.\n",
    "\n",
    "The smaller the time interval, the closer the average velocity comes to the *instantaneous* velocity."
   ]
  },
  {
   "cell_type": "markdown",
   "metadata": {
    "slideshow": {
     "slide_type": "subslide"
    }
   },
   "source": [
    "Use your `avg_velocity` function with over shrinking time intervals to estimate the velocity at time $t=10$\n",
    "\n",
    "Check with your `v` that `avg_velocity`$\\to$`v`"
   ]
  }
 ],
 "metadata": {
  "celltoolbar": "Slideshow",
  "kernelspec": {
   "display_name": "Python 3",
   "language": "python",
   "name": "python3"
  },
  "language_info": {
   "codemirror_mode": {
    "name": "ipython",
    "version": 3
   },
   "file_extension": ".py",
   "mimetype": "text/x-python",
   "name": "python",
   "nbconvert_exporter": "python",
   "pygments_lexer": "ipython3",
   "version": "3.8.5"
  }
 },
 "nbformat": 4,
 "nbformat_minor": 2
}
