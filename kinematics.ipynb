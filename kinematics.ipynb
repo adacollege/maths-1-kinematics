{
 "cells": [
  {
   "cell_type": "code",
   "execution_count": null,
   "metadata": {},
   "outputs": [],
   "source": [
    "import matplotlib.pyplot as plt"
   ]
  },
  {
   "cell_type": "markdown",
   "metadata": {
    "slideshow": {
     "slide_type": "slide"
    }
   },
   "source": [
    "# Kinematics\n",
    "\n",
    "* Distance\n",
    "* Displacement\n",
    "* Distance travelled\n",
    "* Position\n",
    "* Speed\n",
    "* Velocity\n",
    "* Acceleration"
   ]
  },
  {
   "cell_type": "markdown",
   "metadata": {
    "slideshow": {
     "slide_type": "slide"
    }
   },
   "source": [
    "## Modelling motion as a recurrence relation\n",
    "\n",
    "Given the state at time $t$, we can calculate the state at time $t+1$"
   ]
  },
  {
   "cell_type": "markdown",
   "metadata": {
    "slideshow": {
     "slide_type": "slide"
    }
   },
   "source": [
    "### Initialise"
   ]
  },
  {
   "cell_type": "code",
   "execution_count": null,
   "metadata": {
    "slideshow": {
     "slide_type": "-"
    }
   },
   "outputs": [],
   "source": [
    "# Acceleration m/s^2\n",
    "a = 1\n",
    "# Velocity m/s^1\n",
    "v = 0\n",
    "# Displacement m\n",
    "s = 0\n",
    "# Time s\n",
    "t = 0"
   ]
  },
  {
   "cell_type": "markdown",
   "metadata": {
    "hide_input": false,
    "slideshow": {
     "slide_type": "subslide"
    }
   },
   "source": [
    "### Iterate"
   ]
  },
  {
   "cell_type": "code",
   "execution_count": null,
   "metadata": {
    "scrolled": true,
    "slideshow": {
     "slide_type": "-"
    }
   },
   "outputs": [],
   "source": [
    "while t < 10:\n",
    "    t += 1 # Advance the clock\n",
    "\n",
    "    s += v # Update position\n",
    " \n",
    "    v += a # Update velocity\n",
    "    \n",
    "    print(\"At time {}s,\\tv={}m/s\\ts={}m\".format(round(t,2), round(v,2), round(s,2)))"
   ]
  },
  {
   "cell_type": "markdown",
   "metadata": {
    "slideshow": {
     "slide_type": "subslide"
    }
   },
   "source": [
    "### Criticise\n",
    "\n",
    "* How accurate is this model?\n",
    "* Does it over- or under-estimate the position?\n",
    "* How could it be improved?"
   ]
  },
  {
   "cell_type": "markdown",
   "metadata": {
    "slideshow": {
     "slide_type": "subslide"
    }
   },
   "source": [
    "### Visualise"
   ]
  },
  {
   "cell_type": "code",
   "execution_count": null,
   "metadata": {
    "slideshow": {
     "slide_type": "-"
    }
   },
   "outputs": [],
   "source": [
    "# Initialise\n",
    "a = 1\n",
    "v = 0\n",
    "s = 0 # Displacement\n",
    "t = 0\n",
    "d = 0 # Distance travelled\n",
    "\n",
    "# Keep a record of values of t, v, s and d to plot\n",
    "ts = [t]\n",
    "vs = [v]\n",
    "ss = [s]\n",
    "ds = [d]\n",
    "\n",
    "# Iterate\n",
    "for _ in range(10):\n",
    "    t += 1\n",
    "    s += v\n",
    "    d += abs(v)\n",
    "    v += a\n",
    "    ts.append(t)\n",
    "    ss.append(s)\n",
    "    vs.append(v)\n",
    "    ds.append(d)"
   ]
  },
  {
   "cell_type": "markdown",
   "metadata": {
    "slideshow": {
     "slide_type": "subslide"
    }
   },
   "source": [
    "Let's see what that looks like"
   ]
  },
  {
   "cell_type": "code",
   "execution_count": null,
   "metadata": {
    "hide_input": false,
    "scrolled": false,
    "slideshow": {
     "slide_type": "-"
    }
   },
   "outputs": [],
   "source": [
    "fig, ax = plt.subplots(figsize=(10,6))\n",
    "fig.suptitle(\"Velocity, displacement, and distance\")\n",
    "ax.set_xlim(0,10)\n",
    "ax.set_ylim(-20,20)\n",
    "ax.set_xlabel(\"Time t\")\n",
    "ax.plot(ts,ss,label=\"displacement\",linewidth=\"5\",c=\"rebeccapurple\")\n",
    "ax.plot(ts,ds,label=\"distance travelled\",linestyle=\"dashed\",linewidth=\"5\",c=\"steelblue\")\n",
    "ax.plot(ts,vs,label=\"velocity\",linewidth=\"5\",c=\"crimson\")\n",
    "ax.axhline(0, c=\"lightgrey\")\n",
    "ax.legend();"
   ]
  },
  {
   "cell_type": "markdown",
   "metadata": {
    "slideshow": {
     "slide_type": "subslide"
    }
   },
   "source": [
    "### Tasks\n",
    "\n",
    "1. Experiment with different values, positive and negative, of `a`. What do you notice?\n",
    "1. Generate graphs for the following scenario\n",
    "> A ball is thrown upwards from a height of $1m$ with velocity $5 ms^{-1}$. (Assume acceleration due to gravity is $-9.8ms^{-2}$)\n",
    "1. At roughly what time does the ball reach its greatest height? When does it hit the ground?"
   ]
  },
  {
   "cell_type": "markdown",
   "metadata": {
    "slideshow": {
     "slide_type": "slide"
    }
   },
   "source": [
    "## Modelling motion algebraically\n",
    "\n",
    "Although it's straightforward to implement, modelling motion with a recurrence relation has disadvantages."
   ]
  },
  {
   "cell_type": "markdown",
   "metadata": {
    "slideshow": {
     "slide_type": "fragment"
    }
   },
   "source": [
    "It over- or under-estimates the true position depending on whether the velocity is updated before or after the position is updated.\n",
    "\n",
    "To overcome this we need a more algebraically rigorous approach."
   ]
  }
 ],
 "metadata": {
  "celltoolbar": "Slideshow",
  "hide_input": false,
  "kernelspec": {
   "display_name": "Python 3",
   "language": "python",
   "name": "python3"
  },
  "language_info": {
   "codemirror_mode": {
    "name": "ipython",
    "version": 3
   },
   "file_extension": ".py",
   "mimetype": "text/x-python",
   "name": "python",
   "nbconvert_exporter": "python",
   "pygments_lexer": "ipython3",
   "version": "3.8.5"
  }
 },
 "nbformat": 4,
 "nbformat_minor": 2
}
