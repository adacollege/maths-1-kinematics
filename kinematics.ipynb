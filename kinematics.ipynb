{
 "cells": [
  {
   "cell_type": "markdown",
   "metadata": {
    "slideshow": {
     "slide_type": "slide"
    }
   },
   "source": [
    "# Kinematics\n",
    "\n",
    "* Distance\n",
    "* Displacement\n",
    "* Distance travelled\n",
    "* Position\n",
    "* Speed\n",
    "* Velocity\n",
    "* Acceleration"
   ]
  },
  {
   "cell_type": "markdown",
   "metadata": {
    "slideshow": {
     "slide_type": "slide"
    }
   },
   "source": [
    "## Modelling motion as a recurrence relation\n",
    "\n",
    "### Initialise"
   ]
  },
  {
   "cell_type": "code",
   "execution_count": 154,
   "metadata": {
    "slideshow": {
     "slide_type": "-"
    }
   },
   "outputs": [],
   "source": [
    "# Acceleration m/s^2\n",
    "a = 1\n",
    "# Velocity m/s^1\n",
    "v = 0\n",
    "# Position m\n",
    "x = 0\n",
    "# Time s\n",
    "t = 0\n",
    "# Step value\n",
    "step = 0.1\n",
    "import matplotlib.pyplot as plt"
   ]
  },
  {
   "cell_type": "markdown",
   "metadata": {
    "hide_input": false,
    "slideshow": {
     "slide_type": "subslide"
    }
   },
   "source": [
    "### Update\n",
    "\n",
    "Repeatedly hit `ctrl-enter` to model the motion"
   ]
  },
  {
   "cell_type": "code",
   "execution_count": 156,
   "metadata": {
    "scrolled": true,
    "slideshow": {
     "slide_type": "-"
    }
   },
   "outputs": [
    {
     "name": "stdout",
     "output_type": "stream",
     "text": [
      "At time 10.1s, x=50.5m and v=10.1m/s\n"
     ]
    }
   ],
   "source": [
    "while t < 10:\n",
    "    t += step # Advance the clock\n",
    "\n",
    "    x += step*v # Update position\n",
    " \n",
    "    v += step*a # Update velocity\n",
    "print(\"At time {}s, x={}m and v={}m/s\".format(round(t,2), round(x,2), round(v,2)))"
   ]
  },
  {
   "cell_type": "markdown",
   "metadata": {
    "slideshow": {
     "slide_type": "subslide"
    }
   },
   "source": [
    "### Criticise\n",
    "\n",
    "* How accurate is this model?\n",
    "* Does it over- or under-estimate the position?\n",
    "* How could it be improved?"
   ]
  },
  {
   "cell_type": "markdown",
   "metadata": {
    "slideshow": {
     "slide_type": "subslide"
    }
   },
   "source": [
    "### Visualise"
   ]
  },
  {
   "cell_type": "code",
   "execution_count": 76,
   "metadata": {
    "slideshow": {
     "slide_type": "-"
    }
   },
   "outputs": [],
   "source": [
    "a = 1\n",
    "v = 0\n",
    "x = 0\n",
    "t = 0\n",
    "d = 0\n",
    "# Keep a record of values of t, v, and x to plot\n",
    "ts = [t]\n",
    "vs = [v]\n",
    "xs = [x]\n",
    "ds = [d]"
   ]
  },
  {
   "cell_type": "markdown",
   "metadata": {
    "slideshow": {
     "slide_type": "subslide"
    }
   },
   "source": [
    "Repeatedly run this with `ctrl-enter`:"
   ]
  },
  {
   "cell_type": "code",
   "execution_count": 277,
   "metadata": {
    "slideshow": {
     "slide_type": "-"
    }
   },
   "outputs": [
    {
     "name": "stdout",
     "output_type": "stream",
     "text": [
      "At time 20.0s, x=199.0m and v=20.0m/s\n",
      "Distance travelled is 199.0\n"
     ]
    }
   ],
   "source": [
    "t += 0.1\n",
    "x += 0.1*v\n",
    "d += abs(0.1*v)\n",
    "v += 0.1*a\n",
    "ts.append(t)\n",
    "xs.append(x)\n",
    "vs.append(v)\n",
    "ds.append(d)\n",
    "\n",
    "print(\"At time {}s, x={}m and v={}m/s\".format(round(t,2), round(x,2), round(v,2)))\n",
    "print(\"Distance travelled is {}\".format(round(d,2)))"
   ]
  },
  {
   "cell_type": "markdown",
   "metadata": {
    "slideshow": {
     "slide_type": "subslide"
    }
   },
   "source": [
    "Let's see what that looks like"
   ]
  },
  {
   "cell_type": "code",
   "execution_count": 5,
   "metadata": {
    "slideshow": {
     "slide_type": "skip"
    }
   },
   "outputs": [],
   "source": [
    "import matplotlib.pyplot as plt"
   ]
  },
  {
   "cell_type": "code",
   "execution_count": 280,
   "metadata": {
    "hide_input": false,
    "scrolled": false,
    "slideshow": {
     "slide_type": "-"
    }
   },
   "outputs": [
    {
     "data": {
      "image/png": "[encoded data removed]",
      "text/plain": [
       "<Figure size 720x432 with 1 Axes>"
      ]
     },
     "metadata": {
      "needs_background": "light"
     },
     "output_type": "display_data"
    }
   ],
   "source": [
    "fig, ax = plt.subplots(figsize=(10,6))\n",
    "fig.suptitle(\"Velocity, position, and distance\")\n",
    "ax.set_xlim(0,10)\n",
    "ax.set_ylim(-20,20)\n",
    "ax.set_xlabel(\"Time t\")\n",
    "ax.plot(ts,xs,label=\"x\",linewidth=\"5\",c=\"rebeccapurple\")\n",
    "ax.plot(ts,ds,label=\"d\",linestyle=\"dashed\",linewidth=\"5\",c=\"steelblue\")\n",
    "ax.plot(ts,vs,label=\"v\",linewidth=\"5\",c=\"crimson\")\n",
    "ax.axhline(0)\n",
    "ax.legend();"
   ]
  },
  {
   "cell_type": "markdown",
   "metadata": {
    "slideshow": {
     "slide_type": "subslide"
    }
   },
   "source": [
    "### Tasks\n",
    "\n",
    "1. Experiment with different values, positive and negative, of `a`. What do you notice?\n",
    "1. Generate position- and velocity-time graphs for the following scenario\n",
    "> A ball is thrown upwards from a height of $1m$ with velocity $5 ms^{-1}$. (Assume acceleration due to gravity is $-9.8ms^{-2}$)\n",
    "1. At roughly what time does the ball reach its greatest height? When does it hit the ground?"
   ]
  },
  {
   "cell_type": "markdown",
   "metadata": {
    "slideshow": {
     "slide_type": "slide"
    }
   },
   "source": [
    "## Modelling motion algebraically\n",
    "\n",
    "Although it's straightforward to implement, modelling motion with a recurrence relation has disadvantages."
   ]
  },
  {
   "cell_type": "markdown",
   "metadata": {
    "slideshow": {
     "slide_type": "fragment"
    }
   },
   "source": [
    "It over- or under-estimates the true position depending on whether the velocity is updated before or after the position is updated.\n",
    "\n",
    "To overcome this we need a more algebraically rigorous approach."
   ]
  }
 ],
 "metadata": {
  "celltoolbar": "Slideshow",
  "hide_input": false,
  "kernelspec": {
   "display_name": "Python 3",
   "language": "python",
   "name": "python3"
  },
  "language_info": {
   "codemirror_mode": {
    "name": "ipython",
    "version": 3
   },
   "file_extension": ".py",
   "mimetype": "text/x-python",
   "name": "python",
   "nbconvert_exporter": "python",
   "pygments_lexer": "ipython3",
   "version": "3.6.8"
  }
 },
 "nbformat": 4,
 "nbformat_minor": 2
}
